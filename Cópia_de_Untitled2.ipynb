{
  "nbformat": 4,
  "nbformat_minor": 0,
  "metadata": {
    "colab": {
      "provenance": [],
      "gpuType": "T4",
      "authorship_tag": "ABX9TyPv0gVoojSEaghuiutggwqD",
      "include_colab_link": true
    },
    "kernelspec": {
      "name": "python3",
      "display_name": "Python 3"
    },
    "language_info": {
      "name": "python"
    },
    "accelerator": "GPU"
  },
  "cells": [
    {
      "cell_type": "markdown",
      "metadata": {
        "id": "view-in-github",
        "colab_type": "text"
      },
      "source": [
        "<a href=\"https://colab.research.google.com/github/sindlinger/CRAFT-pytorch/blob/master/C%C3%B3pia_de_Untitled2.ipynb\" target=\"_parent\"><img src=\"https://colab.research.google.com/assets/colab-badge.svg\" alt=\"Open In Colab\"/></a>"
      ]
    },
    {
      "cell_type": "code",
      "source": [
        "!rm -rf meshroom\n"
      ],
      "metadata": {
        "id": "pEoiFNHjCf9w"
      },
      "execution_count": 20,
      "outputs": []
    },
    {
      "cell_type": "code",
      "execution_count": 2,
      "metadata": {
        "id": "RiEolbVFB_8F",
        "colab": {
          "base_uri": "https://localhost:8080/"
        },
        "outputId": "32189c8b-4c87-42f7-aa64-28881e2ec172"
      },
      "outputs": [
        {
          "output_type": "stream",
          "name": "stdout",
          "text": [
            "\r0% [Working]\r            \rGet:1 https://cloud.r-project.org/bin/linux/ubuntu jammy-cran40/ InRelease [3,626 B]\n",
            "\r0% [Connecting to archive.ubuntu.com (91.189.91.83)] [Connecting to security.ubuntu.com (91.189.91.8\r0% [Connecting to archive.ubuntu.com (91.189.91.83)] [Connecting to security.ubuntu.com (91.189.91.8\r                                                                                                    \rGet:2 https://developer.download.nvidia.com/compute/cuda/repos/ubuntu2204/x86_64  InRelease [1,581 B]\n",
            "\r0% [Waiting for headers] [Waiting for headers] [Connected to r2u.stat.illinois.edu (192.17.190.167)]\r                                                                                                    \rHit:3 https://ppa.launchpadcontent.net/deadsnakes/ppa/ubuntu jammy InRelease\n",
            "\r0% [Waiting for headers] [Waiting for headers] [Connected to r2u.stat.illinois.edu (192.17.190.167)]\r                                                                                                    \rHit:4 https://ppa.launchpadcontent.net/graphics-drivers/ppa/ubuntu jammy InRelease\n",
            "Get:5 http://security.ubuntu.com/ubuntu jammy-security InRelease [129 kB]\n",
            "Get:6 https://ppa.launchpadcontent.net/ubuntugis/ppa/ubuntu jammy InRelease [24.6 kB]\n",
            "Hit:7 http://archive.ubuntu.com/ubuntu jammy InRelease\n",
            "Get:8 http://archive.ubuntu.com/ubuntu jammy-updates InRelease [128 kB]\n",
            "Get:9 https://developer.download.nvidia.com/compute/cuda/repos/ubuntu2204/x86_64  Packages [859 kB]\n",
            "Ign:10 https://r2u.stat.illinois.edu/ubuntu jammy InRelease\n",
            "Get:11 https://r2u.stat.illinois.edu/ubuntu jammy Release [5,713 B]\n",
            "Get:12 http://archive.ubuntu.com/ubuntu jammy-backports InRelease [127 kB]\n",
            "Get:13 https://r2u.stat.illinois.edu/ubuntu jammy Release.gpg [793 B]\n",
            "Get:14 http://security.ubuntu.com/ubuntu jammy-security/universe amd64 Packages [1,128 kB]\n",
            "Get:15 http://archive.ubuntu.com/ubuntu jammy-updates/main amd64 Packages [2,329 kB]\n",
            "Get:16 http://security.ubuntu.com/ubuntu jammy-security/restricted amd64 Packages [2,707 kB]\n",
            "Get:17 https://r2u.stat.illinois.edu/ubuntu jammy/main all Packages [8,192 kB]\n",
            "Get:18 http://security.ubuntu.com/ubuntu jammy-security/main amd64 Packages [2,064 kB]\n",
            "Get:19 http://archive.ubuntu.com/ubuntu jammy-updates/restricted amd64 Packages [2,781 kB]\n",
            "Get:20 http://archive.ubuntu.com/ubuntu jammy-updates/universe amd64 Packages [1,418 kB]\n",
            "Get:21 http://archive.ubuntu.com/ubuntu jammy-backports/universe amd64 Packages [33.7 kB]\n",
            "Get:22 https://r2u.stat.illinois.edu/ubuntu jammy/main amd64 Packages [2,545 kB]\n",
            "Fetched 24.5 MB in 3s (7,427 kB/s)\n",
            "Reading package lists... Done\n",
            "W: Skipping acquire of configured file 'main/source/Sources' as repository 'https://r2u.stat.illinois.edu/ubuntu jammy InRelease' does not seem to provide it (sources.list entry misspelt?)\n",
            "Reading package lists... Done\n",
            "Building dependency tree... Done\n",
            "Reading state information... Done\n",
            "g++ is already the newest version (4:11.2.0-1ubuntu1).\n",
            "g++ set to manually installed.\n",
            "libjpeg-dev is already the newest version (8c-2ubuntu10).\n",
            "libjpeg-dev set to manually installed.\n",
            "libpng-dev is already the newest version (1.6.37-3build5).\n",
            "libboost-all-dev is already the newest version (1.74.0.3ubuntu7).\n",
            "cmake is already the newest version (3.22.1-1ubuntu1.22.04.2).\n",
            "git is already the newest version (1:2.34.1-1ubuntu1.11).\n",
            "libtiff-dev is already the newest version (4.3.0-6ubuntu0.9).\n",
            "libtiff-dev set to manually installed.\n",
            "wget is already the newest version (1.21.2-2ubuntu1.1).\n",
            "libopencv-dev is already the newest version (4.5.4+dfsg-9ubuntu4+jammy0).\n",
            "The following additional packages will be installed:\n",
            "  feh fonts-terminus-otb libfontenc1 libid3tag0 libimlib2 libjpeg-progs libjpeg9 liblzo2-2\n",
            "  libvncclient1 libvncserver1 libxfont2 libxkbfile1 libxtst6 libxxf86dga1 menu x11-utils\n",
            "  x11-xkb-utils xbitmaps xfonts-base xfonts-encodings xfonts-terminus xfonts-utils xserver-common\n",
            "  yudit-common\n",
            "Suggested packages:\n",
            "  fbpager fbdesk fbautostart xfonts-terminus-oblique menu-l10n gksu | kde-runtime | ktsuss\n",
            "  mesa-utils yudit-doc yudit\n",
            "The following NEW packages will be installed:\n",
            "  feh fluxbox fonts-terminus-otb libfontenc1 libid3tag0 libimlib2 libjpeg-progs libjpeg9 liblzo2-2\n",
            "  libvncclient1 libvncserver1 libxfont2 libxkbfile1 libxtst6 libxxf86dga1 menu x11-apps x11-utils\n",
            "  x11-xkb-utils x11vnc xbitmaps xfonts-base xfonts-encodings xfonts-terminus xfonts-utils\n",
            "  xserver-common xvfb yudit-common\n",
            "0 upgraded, 28 newly installed, 0 to remove and 49 not upgraded.\n",
            "Need to get 15.3 MB of archives.\n",
            "After this operation, 38.1 MB of additional disk space will be used.\n",
            "Get:1 http://archive.ubuntu.com/ubuntu jammy/universe amd64 libid3tag0 amd64 0.15.1b-14 [31.3 kB]\n",
            "Get:2 http://archive.ubuntu.com/ubuntu jammy/universe amd64 libimlib2 amd64 1.7.4-1build1 [195 kB]\n",
            "Get:3 http://archive.ubuntu.com/ubuntu jammy/universe amd64 yudit-common all 3.0.7-3 [1,729 kB]\n",
            "Get:4 http://archive.ubuntu.com/ubuntu jammy/universe amd64 feh amd64 3.6.3-1 [110 kB]\n",
            "Get:5 http://archive.ubuntu.com/ubuntu jammy/universe amd64 menu amd64 2.1.47ubuntu4 [354 kB]\n",
            "Get:6 http://archive.ubuntu.com/ubuntu jammy/universe amd64 fluxbox amd64 1.3.5-2.1 [832 kB]\n",
            "Get:7 http://archive.ubuntu.com/ubuntu jammy/main amd64 libfontenc1 amd64 1:1.1.4-1build3 [14.7 kB]\n",
            "Get:8 http://archive.ubuntu.com/ubuntu jammy/main amd64 xfonts-encodings all 1:1.0.5-0ubuntu2 [578 kB]\n",
            "Get:9 http://archive.ubuntu.com/ubuntu jammy/main amd64 xfonts-utils amd64 1:7.7+6build2 [94.6 kB]\n",
            "Get:10 http://archive.ubuntu.com/ubuntu jammy/universe amd64 fonts-terminus-otb all 4.48-3.1 [308 kB]\n",
            "Get:11 http://archive.ubuntu.com/ubuntu jammy/universe amd64 libjpeg9 amd64 1:9d-1 [112 kB]\n",
            "Get:12 http://archive.ubuntu.com/ubuntu jammy/universe amd64 libjpeg-progs amd64 1:9d-1 [78.3 kB]\n",
            "Get:13 http://archive.ubuntu.com/ubuntu jammy/main amd64 liblzo2-2 amd64 2.10-2build3 [53.7 kB]\n",
            "Get:14 http://archive.ubuntu.com/ubuntu jammy/main amd64 libvncclient1 amd64 0.9.13+dfsg-3build2 [70.1 kB]\n",
            "Get:15 http://archive.ubuntu.com/ubuntu jammy/main amd64 libvncserver1 amd64 0.9.13+dfsg-3build2 [131 kB]\n",
            "Get:16 http://archive.ubuntu.com/ubuntu jammy/main amd64 libxfont2 amd64 1:2.0.5-1build1 [94.5 kB]\n",
            "Get:17 http://archive.ubuntu.com/ubuntu jammy/main amd64 libxkbfile1 amd64 1:1.1.0-1build3 [71.8 kB]\n",
            "Get:18 http://archive.ubuntu.com/ubuntu jammy/main amd64 libxtst6 amd64 2:1.2.3-1build4 [13.4 kB]\n",
            "Get:19 http://archive.ubuntu.com/ubuntu jammy/main amd64 libxxf86dga1 amd64 2:1.1.5-0ubuntu3 [12.6 kB]\n",
            "Get:20 http://archive.ubuntu.com/ubuntu jammy/main amd64 x11-apps amd64 7.7+8build2 [719 kB]\n",
            "Get:21 http://archive.ubuntu.com/ubuntu jammy/main amd64 x11-utils amd64 7.7+5build2 [206 kB]\n",
            "Get:22 http://archive.ubuntu.com/ubuntu jammy/main amd64 x11-xkb-utils amd64 7.7+5build4 [172 kB]\n",
            "Get:23 http://archive.ubuntu.com/ubuntu jammy/universe amd64 x11vnc amd64 0.9.16-8 [1,019 kB]\n",
            "Get:24 http://archive.ubuntu.com/ubuntu jammy/main amd64 xbitmaps all 1.1.1-2.1ubuntu1 [23.4 kB]\n",
            "Get:25 http://archive.ubuntu.com/ubuntu jammy/main amd64 xfonts-base all 1:1.0.5 [5,896 kB]\n",
            "Get:26 http://archive.ubuntu.com/ubuntu jammy/universe amd64 xfonts-terminus all 4.48-3.1 [1,524 kB]\n",
            "Get:27 http://archive.ubuntu.com/ubuntu jammy-updates/main amd64 xserver-common all 2:21.1.4-2ubuntu1.7~22.04.11 [28.6 kB]\n",
            "Get:28 http://archive.ubuntu.com/ubuntu jammy-updates/universe amd64 xvfb amd64 2:21.1.4-2ubuntu1.7~22.04.11 [863 kB]\n",
            "Fetched 15.3 MB in 1s (10.9 MB/s)\n",
            "Selecting previously unselected package libid3tag0:amd64.\n",
            "(Reading database ... 123586 files and directories currently installed.)\n",
            "Preparing to unpack .../00-libid3tag0_0.15.1b-14_amd64.deb ...\n",
            "Unpacking libid3tag0:amd64 (0.15.1b-14) ...\n",
            "Selecting previously unselected package libimlib2:amd64.\n",
            "Preparing to unpack .../01-libimlib2_1.7.4-1build1_amd64.deb ...\n",
            "Unpacking libimlib2:amd64 (1.7.4-1build1) ...\n",
            "Selecting previously unselected package yudit-common.\n",
            "Preparing to unpack .../02-yudit-common_3.0.7-3_all.deb ...\n",
            "Unpacking yudit-common (3.0.7-3) ...\n",
            "Selecting previously unselected package feh.\n",
            "Preparing to unpack .../03-feh_3.6.3-1_amd64.deb ...\n",
            "Unpacking feh (3.6.3-1) ...\n",
            "Selecting previously unselected package menu.\n",
            "Preparing to unpack .../04-menu_2.1.47ubuntu4_amd64.deb ...\n",
            "Unpacking menu (2.1.47ubuntu4) ...\n",
            "Selecting previously unselected package fluxbox.\n",
            "Preparing to unpack .../05-fluxbox_1.3.5-2.1_amd64.deb ...\n",
            "Unpacking fluxbox (1.3.5-2.1) ...\n",
            "Selecting previously unselected package libfontenc1:amd64.\n",
            "Preparing to unpack .../06-libfontenc1_1%3a1.1.4-1build3_amd64.deb ...\n",
            "Unpacking libfontenc1:amd64 (1:1.1.4-1build3) ...\n",
            "Selecting previously unselected package xfonts-encodings.\n",
            "Preparing to unpack .../07-xfonts-encodings_1%3a1.0.5-0ubuntu2_all.deb ...\n",
            "Unpacking xfonts-encodings (1:1.0.5-0ubuntu2) ...\n",
            "Selecting previously unselected package xfonts-utils.\n",
            "Preparing to unpack .../08-xfonts-utils_1%3a7.7+6build2_amd64.deb ...\n",
            "Unpacking xfonts-utils (1:7.7+6build2) ...\n",
            "Selecting previously unselected package fonts-terminus-otb.\n",
            "Preparing to unpack .../09-fonts-terminus-otb_4.48-3.1_all.deb ...\n",
            "Unpacking fonts-terminus-otb (4.48-3.1) ...\n",
            "Selecting previously unselected package libjpeg9:amd64.\n",
            "Preparing to unpack .../10-libjpeg9_1%3a9d-1_amd64.deb ...\n",
            "Unpacking libjpeg9:amd64 (1:9d-1) ...\n",
            "Selecting previously unselected package libjpeg-progs.\n",
            "Preparing to unpack .../11-libjpeg-progs_1%3a9d-1_amd64.deb ...\n",
            "Unpacking libjpeg-progs (1:9d-1) ...\n",
            "Selecting previously unselected package liblzo2-2:amd64.\n",
            "Preparing to unpack .../12-liblzo2-2_2.10-2build3_amd64.deb ...\n",
            "Unpacking liblzo2-2:amd64 (2.10-2build3) ...\n",
            "Selecting previously unselected package libvncclient1:amd64.\n",
            "Preparing to unpack .../13-libvncclient1_0.9.13+dfsg-3build2_amd64.deb ...\n",
            "Unpacking libvncclient1:amd64 (0.9.13+dfsg-3build2) ...\n",
            "Selecting previously unselected package libvncserver1:amd64.\n",
            "Preparing to unpack .../14-libvncserver1_0.9.13+dfsg-3build2_amd64.deb ...\n",
            "Unpacking libvncserver1:amd64 (0.9.13+dfsg-3build2) ...\n",
            "Selecting previously unselected package libxfont2:amd64.\n",
            "Preparing to unpack .../15-libxfont2_1%3a2.0.5-1build1_amd64.deb ...\n",
            "Unpacking libxfont2:amd64 (1:2.0.5-1build1) ...\n",
            "Selecting previously unselected package libxkbfile1:amd64.\n",
            "Preparing to unpack .../16-libxkbfile1_1%3a1.1.0-1build3_amd64.deb ...\n",
            "Unpacking libxkbfile1:amd64 (1:1.1.0-1build3) ...\n",
            "Selecting previously unselected package libxtst6:amd64.\n",
            "Preparing to unpack .../17-libxtst6_2%3a1.2.3-1build4_amd64.deb ...\n",
            "Unpacking libxtst6:amd64 (2:1.2.3-1build4) ...\n",
            "Selecting previously unselected package libxxf86dga1:amd64.\n",
            "Preparing to unpack .../18-libxxf86dga1_2%3a1.1.5-0ubuntu3_amd64.deb ...\n",
            "Unpacking libxxf86dga1:amd64 (2:1.1.5-0ubuntu3) ...\n",
            "Selecting previously unselected package x11-apps.\n",
            "Preparing to unpack .../19-x11-apps_7.7+8build2_amd64.deb ...\n",
            "Unpacking x11-apps (7.7+8build2) ...\n",
            "Selecting previously unselected package x11-utils.\n",
            "Preparing to unpack .../20-x11-utils_7.7+5build2_amd64.deb ...\n",
            "Unpacking x11-utils (7.7+5build2) ...\n",
            "Selecting previously unselected package x11-xkb-utils.\n",
            "Preparing to unpack .../21-x11-xkb-utils_7.7+5build4_amd64.deb ...\n",
            "Unpacking x11-xkb-utils (7.7+5build4) ...\n",
            "Selecting previously unselected package x11vnc.\n",
            "Preparing to unpack .../22-x11vnc_0.9.16-8_amd64.deb ...\n",
            "Unpacking x11vnc (0.9.16-8) ...\n",
            "Selecting previously unselected package xbitmaps.\n",
            "Preparing to unpack .../23-xbitmaps_1.1.1-2.1ubuntu1_all.deb ...\n",
            "Unpacking xbitmaps (1.1.1-2.1ubuntu1) ...\n",
            "Selecting previously unselected package xfonts-base.\n",
            "Preparing to unpack .../24-xfonts-base_1%3a1.0.5_all.deb ...\n",
            "Unpacking xfonts-base (1:1.0.5) ...\n",
            "Selecting previously unselected package xfonts-terminus.\n",
            "Preparing to unpack .../25-xfonts-terminus_4.48-3.1_all.deb ...\n",
            "Unpacking xfonts-terminus (4.48-3.1) ...\n",
            "Selecting previously unselected package xserver-common.\n",
            "Preparing to unpack .../26-xserver-common_2%3a21.1.4-2ubuntu1.7~22.04.11_all.deb ...\n",
            "Unpacking xserver-common (2:21.1.4-2ubuntu1.7~22.04.11) ...\n",
            "Selecting previously unselected package xvfb.\n",
            "Preparing to unpack .../27-xvfb_2%3a21.1.4-2ubuntu1.7~22.04.11_amd64.deb ...\n",
            "Unpacking xvfb (2:21.1.4-2ubuntu1.7~22.04.11) ...\n",
            "Setting up libjpeg9:amd64 (1:9d-1) ...\n",
            "Setting up libjpeg-progs (1:9d-1) ...\n",
            "Setting up libxtst6:amd64 (2:1.2.3-1build4) ...\n",
            "Setting up libxxf86dga1:amd64 (2:1.1.5-0ubuntu3) ...\n",
            "Setting up liblzo2-2:amd64 (2.10-2build3) ...\n",
            "Setting up libvncserver1:amd64 (0.9.13+dfsg-3build2) ...\n",
            "Setting up libid3tag0:amd64 (0.15.1b-14) ...\n",
            "Setting up libvncclient1:amd64 (0.9.13+dfsg-3build2) ...\n",
            "Setting up libfontenc1:amd64 (1:1.1.4-1build3) ...\n",
            "Setting up xfonts-encodings (1:1.0.5-0ubuntu2) ...\n",
            "Setting up libimlib2:amd64 (1.7.4-1build1) ...\n",
            "Setting up yudit-common (3.0.7-3) ...\n",
            "Setting up libxkbfile1:amd64 (1:1.1.0-1build3) ...\n",
            "Setting up menu (2.1.47ubuntu4) ...\n",
            "Setting up libxfont2:amd64 (1:2.0.5-1build1) ...\n",
            "Setting up xbitmaps (1.1.1-2.1ubuntu1) ...\n",
            "Setting up fluxbox (1.3.5-2.1) ...\n",
            "update-alternatives: using /usr/bin/startfluxbox to provide /usr/bin/x-window-manager (x-window-manager) in auto mode\n",
            "Setting up x11-xkb-utils (7.7+5build4) ...\n",
            "Setting up x11-apps (7.7+8build2) ...\n",
            "Setting up xfonts-utils (1:7.7+6build2) ...\n",
            "Setting up x11vnc (0.9.16-8) ...\n",
            "Setting up xfonts-base (1:1.0.5) ...\n",
            "Setting up feh (3.6.3-1) ...\n",
            "Setting up x11-utils (7.7+5build2) ...\n",
            "Setting up xserver-common (2:21.1.4-2ubuntu1.7~22.04.11) ...\n",
            "Setting up xfonts-terminus (4.48-3.1) ...\n",
            "Setting up xvfb (2:21.1.4-2ubuntu1.7~22.04.11) ...\n",
            "Setting up fonts-terminus-otb (4.48-3.1) ...\n",
            "Processing triggers for fontconfig (2.13.1-4.2ubuntu5) ...\n",
            "Processing triggers for hicolor-icon-theme (0.17-2) ...\n",
            "Processing triggers for libc-bin (2.35-0ubuntu3.4) ...\n",
            "/sbin/ldconfig.real: /usr/local/lib/libtbb.so.12 is not a symbolic link\n",
            "\n",
            "/sbin/ldconfig.real: /usr/local/lib/libtbbbind_2_0.so.3 is not a symbolic link\n",
            "\n",
            "/sbin/ldconfig.real: /usr/local/lib/libtbbbind.so.3 is not a symbolic link\n",
            "\n",
            "/sbin/ldconfig.real: /usr/local/lib/libtbbmalloc_proxy.so.2 is not a symbolic link\n",
            "\n",
            "/sbin/ldconfig.real: /usr/local/lib/libtbbmalloc.so.2 is not a symbolic link\n",
            "\n",
            "/sbin/ldconfig.real: /usr/local/lib/libtbbbind_2_5.so.3 is not a symbolic link\n",
            "\n",
            "Processing triggers for man-db (2.10.2-1) ...\n",
            "Processing triggers for menu (2.1.47ubuntu4) ...\n"
          ]
        }
      ],
      "source": [
        "!apt-get update\n",
        "!apt-get install -y x11-apps x11vnc xvfb fluxbox git cmake g++ libpng-dev libtiff-dev libjpeg-dev libboost-all-dev libopencv-dev wget\n"
      ]
    },
    {
      "cell_type": "code",
      "source": [
        "!mkdir -p ~/.vnc\n",
        "!echo \"fluxbox &\" > ~/.vnc/xstartup\n",
        "!chmod +x ~/.vnc/xstartup\n",
        "!x11vnc -storepasswd 1234 ~/.vnc/passwd\n"
      ],
      "metadata": {
        "id": "xwTVBcxwCC0N",
        "colab": {
          "base_uri": "https://localhost:8080/"
        },
        "outputId": "be04efb4-cda5-40de-d520-81095a88df2d"
      },
      "execution_count": 8,
      "outputs": [
        {
          "output_type": "stream",
          "name": "stdout",
          "text": [
            "stored passwd in file: /root/.vnc/passwd\n"
          ]
        }
      ]
    },
    {
      "cell_type": "code",
      "source": [
        "import subprocess\n",
        "import threading\n",
        "\n",
        "def start_xvfb():\n",
        "    subprocess.run([\"Xvfb\", \":1\", \"-screen\", \"0\", \"1280x800x24\"])\n",
        "\n",
        "def start_x11vnc():\n",
        "    subprocess.run([\"x11vnc\", \"-forever\", \"-usepw\", \"-create\", \"-display\", \":1\"])\n",
        "\n",
        "# Iniciar Xvfb e x11vnc em threads separadas\n",
        "xvfb_thread = threading.Thread(target=start_xvfb)\n",
        "x11vnc_thread = threading.Thread(target=start_x11vnc)\n",
        "\n",
        "xvfb_thread.start()\n",
        "x11vnc_thread.start()\n"
      ],
      "metadata": {
        "id": "B06Y2beOCC3N"
      },
      "execution_count": 11,
      "outputs": []
    },
    {
      "cell_type": "code",
      "source": [
        "# Desinstalar a versão atual do requests\n",
        "!pip uninstall -y requests\n",
        "\n",
        "# Instalar a versão 2.31.0 do requests\n",
        "!pip install requests==2.31.0\n",
        "\n"
      ],
      "metadata": {
        "colab": {
          "base_uri": "https://localhost:8080/"
        },
        "id": "_sAO0CX2GMFT",
        "outputId": "40765dbb-9320-4c3b-c75f-bda2c1d9c429"
      },
      "execution_count": 21,
      "outputs": [
        {
          "output_type": "stream",
          "name": "stdout",
          "text": [
            "Found existing installation: requests 2.31.0\n",
            "Uninstalling requests-2.31.0:\n",
            "  Successfully uninstalled requests-2.31.0\n",
            "Collecting requests==2.31.0\n",
            "  Using cached requests-2.31.0-py3-none-any.whl (62 kB)\n",
            "Requirement already satisfied: charset-normalizer<4,>=2 in /usr/local/lib/python3.10/dist-packages (from requests==2.31.0) (3.3.2)\n",
            "Requirement already satisfied: idna<4,>=2.5 in /usr/local/lib/python3.10/dist-packages (from requests==2.31.0) (3.7)\n",
            "Requirement already satisfied: urllib3<3,>=1.21.1 in /usr/local/lib/python3.10/dist-packages (from requests==2.31.0) (2.0.7)\n",
            "Requirement already satisfied: certifi>=2017.4.17 in /usr/local/lib/python3.10/dist-packages (from requests==2.31.0) (2024.7.4)\n",
            "Installing collected packages: requests\n",
            "Successfully installed requests-2.31.0\n"
          ]
        }
      ]
    },
    {
      "cell_type": "code",
      "source": [
        "!git clone --recursive https://github.com/alicevision/meshroom.git\n",
        "!pip install -r meshroom/requirements.txt\n",
        "\n"
      ],
      "metadata": {
        "id": "aPl117JJCC6F",
        "colab": {
          "base_uri": "https://localhost:8080/"
        },
        "outputId": "cdcfbdea-3707-4714-8c49-15e89d405074"
      },
      "execution_count": 22,
      "outputs": [
        {
          "output_type": "stream",
          "name": "stdout",
          "text": [
            "Cloning into 'meshroom'...\n",
            "remote: Enumerating objects: 33081, done.\u001b[K\n",
            "remote: Counting objects: 100% (5529/5529), done.\u001b[K\n",
            "remote: Compressing objects: 100% (719/719), done.\u001b[K\n",
            "remote: Total 33081 (delta 5072), reused 4936 (delta 4809), pack-reused 27552\u001b[K\n",
            "Receiving objects: 100% (33081/33081), 8.44 MiB | 10.40 MiB/s, done.\n",
            "Resolving deltas: 100% (24776/24776), done.\n",
            "Requirement already satisfied: psutil>=5.6.7 in /usr/local/lib/python3.10/dist-packages (from -r meshroom/requirements.txt (line 2)) (5.9.5)\n",
            "Requirement already satisfied: PySide2==5.15.2.1 in /usr/local/lib/python3.10/dist-packages (from -r meshroom/requirements.txt (line 3)) (5.15.2.1)\n",
            "Requirement already satisfied: markdown==2.6.11 in /usr/local/lib/python3.10/dist-packages (from -r meshroom/requirements.txt (line 4)) (2.6.11)\n",
            "Collecting requests==2.32.0 (from -r meshroom/requirements.txt (line 5))\n",
            "  Using cached requests-2.32.0-py3-none-any.whl (63 kB)\n",
            "Requirement already satisfied: pyseq==0.6.1 in /usr/local/lib/python3.10/dist-packages (from -r meshroom/requirements.txt (line 6)) (0.6.1)\n",
            "Requirement already satisfied: shiboken2==5.15.2.1 in /usr/local/lib/python3.10/dist-packages (from PySide2==5.15.2.1->-r meshroom/requirements.txt (line 3)) (5.15.2.1)\n",
            "Requirement already satisfied: charset-normalizer<4,>=2 in /usr/local/lib/python3.10/dist-packages (from requests==2.32.0->-r meshroom/requirements.txt (line 5)) (3.3.2)\n",
            "Requirement already satisfied: idna<4,>=2.5 in /usr/local/lib/python3.10/dist-packages (from requests==2.32.0->-r meshroom/requirements.txt (line 5)) (3.7)\n",
            "Requirement already satisfied: urllib3<3,>=1.21.1 in /usr/local/lib/python3.10/dist-packages (from requests==2.32.0->-r meshroom/requirements.txt (line 5)) (2.0.7)\n",
            "Requirement already satisfied: certifi>=2017.4.17 in /usr/local/lib/python3.10/dist-packages (from requests==2.32.0->-r meshroom/requirements.txt (line 5)) (2024.7.4)\n",
            "\u001b[33mWARNING: The candidate selected for download or install is a yanked version: 'requests' candidate (version 2.32.0 at https://files.pythonhosted.org/packages/24/e8/09e8d662a9675a4e4f5dd7a8e6127b463a091d2703ed931a64aa66d00065/requests-2.32.0-py3-none-any.whl (from https://pypi.org/simple/requests/) (requires-python:>=3.8))\n",
            "Reason for being yanked: Yanked due to conflicts with CVE-2024-35195 mitigation\u001b[0m\u001b[33m\n",
            "\u001b[0mInstalling collected packages: requests\n",
            "  Attempting uninstall: requests\n",
            "    Found existing installation: requests 2.31.0\n",
            "    Uninstalling requests-2.31.0:\n",
            "      Successfully uninstalled requests-2.31.0\n",
            "\u001b[31mERROR: pip's dependency resolver does not currently take into account all the packages that are installed. This behaviour is the source of the following dependency conflicts.\n",
            "google-colab 1.0.0 requires requests==2.31.0, but you have requests 2.32.0 which is incompatible.\u001b[0m\u001b[31m\n",
            "\u001b[0mSuccessfully installed requests-2.32.0\n"
          ]
        }
      ]
    },
    {
      "cell_type": "code",
      "source": [
        "!mkdir -p meshroom/build && cd meshroom && git submodule update --init --recursive && cd build && cmake .. && make -j4\n"
      ],
      "metadata": {
        "id": "gqeQ5pJICDAF"
      },
      "execution_count": null,
      "outputs": []
    },
    {
      "cell_type": "code",
      "source": [
        "!DISPLAY=:1 ./meshroom/build/Meshroom\n"
      ],
      "metadata": {
        "id": "qvKavIiUCDIo"
      },
      "execution_count": null,
      "outputs": []
    },
    {
      "cell_type": "code",
      "source": [
        "!pip install pyngrok\n",
        "\n",
        "from pyngrok import ngrok\n",
        "\n",
        "# Iniciar o túnel na porta 5900\n",
        "vnc_tunnel = ngrok.connect(5900, \"tcp\")\n",
        "print(\"VNC URL:\", vnc_tunnel.public_url)\n"
      ],
      "metadata": {
        "id": "PjsZcpMCCOWR"
      },
      "execution_count": null,
      "outputs": []
    }
  ]
}